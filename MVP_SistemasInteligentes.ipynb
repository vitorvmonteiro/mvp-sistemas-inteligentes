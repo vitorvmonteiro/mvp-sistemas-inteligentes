{
  "nbformat": 4,
  "nbformat_minor": 0,
  "metadata": {
    "colab": {
      "provenance": []
    },
    "kernelspec": {
      "name": "python3",
      "display_name": "Python 3"
    },
    "language_info": {
      "name": "python"
    }
  },
  "cells": [
    {
      "cell_type": "markdown",
      "source": [
        "# MVP: Qualidade de Software, Segurança e Sistemas Inteligentes"
      ],
      "metadata": {
        "id": "LW8OxWgSPXXy"
      }
    },
    {
      "cell_type": "markdown",
      "source": [
        "# Análise de Churn em Telecom\n",
        "Autor: Vitor Monteiro"
      ],
      "metadata": {
        "id": "Vv8PTImEPk5T"
      }
    },
    {
      "cell_type": "markdown",
      "source": [
        "# Introdução\n",
        "O trabalho tem como objetivo desenvolver um modelo de machine learning para prever a evasão de clientes (churn) em uma empresa de telecomunicações, utilizando um conjunto de dados previamente tratado.\n",
        "\n",
        "Este projeto segue as etapas fundamentais da criação de um sistema inteligente, conforme estudado na disciplina, incluindo: a carga e preparação dos dados, a avaliação de diferentes algoritmos de classificação, a otimização de seus hiperparâmetros e, por fim, a exportação do modelo mais performático para futura implementação no sistema de backend.\n",
        "\n",
        "O processo será conduzido de forma metódica, utilizando pipelines para garantir a integridade do pré-processamento e validação cruzada para uma avaliação robusta e confiável dos modelos."
      ],
      "metadata": {
        "id": "shsfBZqkPydx"
      }
    },
    {
      "cell_type": "markdown",
      "source": [
        "# Carga e Preparação dos Dados"
      ],
      "metadata": {
        "id": "U4pCN9ZsQMqC"
      }
    },
    {
      "cell_type": "markdown",
      "source": [
        "## Importação das Bibliotecas e Carregamento dos Dados\n",
        "\n",
        "A primeira etapa consiste na importação das bibliotecas essenciais para o projeto, como `pandas` para manipulação de dados, `matplotlib` para visualização e `scikit-learn` para todas as etapas de modelagem.\n",
        "\n",
        "Em seguida, é realizada a carga do dataset a partir da URL fornecida e inspeção das primeiras linhas com o método `.head()` para garantir que os dados foram carregados corretamente."
      ],
      "metadata": {
        "id": "90OV9lUZQPSz"
      }
    },
    {
      "cell_type": "code",
      "source": [
        "# Importação das bibliotecas necessárias\n",
        "import pandas as pd\n",
        "import matplotlib.pyplot as plt\n",
        "from sklearn.model_selection import train_test_split, StratifiedKFold, cross_val_score, GridSearchCV\n",
        "from sklearn.preprocessing import StandardScaler, MinMaxScaler\n",
        "from sklearn.pipeline import Pipeline\n",
        "from sklearn.neighbors import KNeighborsClassifier\n",
        "from sklearn.tree import DecisionTreeClassifier\n",
        "from sklearn.naive_bayes import GaussianNB\n",
        "from sklearn.svm import SVC\n",
        "from sklearn.metrics import accuracy_score, classification_report, ConfusionMatrixDisplay\n",
        "import pickle\n",
        "\n",
        "# Definição da URL de acesso aos dados\n",
        "url = 'https://raw.githubusercontent.com/vitorvmonteiro/mvp-sistemas-inteligentes/refs/heads/main/telecom_churn_clean_4V.csv'\n",
        "\n",
        "# Leitura do arquivo .csv para um DataFrame do pandas\n",
        "dataset = pd.read_csv(url, delimiter=';')\n",
        "\n",
        "# Impressão das primeiras linhas para verificar a conformidade dos dados\n",
        "dataset.head()"
      ],
      "metadata": {
        "colab": {
          "base_uri": "https://localhost:8080/",
          "height": 206
        },
        "id": "T3ZN9_Z1Qp0G",
        "outputId": "2c60278d-2b51-4798-9199-57ed885c552e"
      },
      "execution_count": 1,
      "outputs": [
        {
          "output_type": "execute_result",
          "data": {
            "text/plain": [
              "   customerID  international_plan  total_day_charge  total_eve_charge  \\\n",
              "0           0                   0             45.07             16.78   \n",
              "1           1                   0             27.47             16.62   \n",
              "2           2                   0             41.38             10.30   \n",
              "3           3                   1             50.90              5.26   \n",
              "4           4                   1             28.34             12.61   \n",
              "\n",
              "   customer_service_calls  churn  \n",
              "0                       1      0  \n",
              "1                       1      0  \n",
              "2                       0      0  \n",
              "3                       2      0  \n",
              "4                       3      0  "
            ],
            "text/html": [
              "\n",
              "  <div id=\"df-b976b5a2-ed69-42a2-bad1-51fb96209359\" class=\"colab-df-container\">\n",
              "    <div>\n",
              "<style scoped>\n",
              "    .dataframe tbody tr th:only-of-type {\n",
              "        vertical-align: middle;\n",
              "    }\n",
              "\n",
              "    .dataframe tbody tr th {\n",
              "        vertical-align: top;\n",
              "    }\n",
              "\n",
              "    .dataframe thead th {\n",
              "        text-align: right;\n",
              "    }\n",
              "</style>\n",
              "<table border=\"1\" class=\"dataframe\">\n",
              "  <thead>\n",
              "    <tr style=\"text-align: right;\">\n",
              "      <th></th>\n",
              "      <th>customerID</th>\n",
              "      <th>international_plan</th>\n",
              "      <th>total_day_charge</th>\n",
              "      <th>total_eve_charge</th>\n",
              "      <th>customer_service_calls</th>\n",
              "      <th>churn</th>\n",
              "    </tr>\n",
              "  </thead>\n",
              "  <tbody>\n",
              "    <tr>\n",
              "      <th>0</th>\n",
              "      <td>0</td>\n",
              "      <td>0</td>\n",
              "      <td>45.07</td>\n",
              "      <td>16.78</td>\n",
              "      <td>1</td>\n",
              "      <td>0</td>\n",
              "    </tr>\n",
              "    <tr>\n",
              "      <th>1</th>\n",
              "      <td>1</td>\n",
              "      <td>0</td>\n",
              "      <td>27.47</td>\n",
              "      <td>16.62</td>\n",
              "      <td>1</td>\n",
              "      <td>0</td>\n",
              "    </tr>\n",
              "    <tr>\n",
              "      <th>2</th>\n",
              "      <td>2</td>\n",
              "      <td>0</td>\n",
              "      <td>41.38</td>\n",
              "      <td>10.30</td>\n",
              "      <td>0</td>\n",
              "      <td>0</td>\n",
              "    </tr>\n",
              "    <tr>\n",
              "      <th>3</th>\n",
              "      <td>3</td>\n",
              "      <td>1</td>\n",
              "      <td>50.90</td>\n",
              "      <td>5.26</td>\n",
              "      <td>2</td>\n",
              "      <td>0</td>\n",
              "    </tr>\n",
              "    <tr>\n",
              "      <th>4</th>\n",
              "      <td>4</td>\n",
              "      <td>1</td>\n",
              "      <td>28.34</td>\n",
              "      <td>12.61</td>\n",
              "      <td>3</td>\n",
              "      <td>0</td>\n",
              "    </tr>\n",
              "  </tbody>\n",
              "</table>\n",
              "</div>\n",
              "    <div class=\"colab-df-buttons\">\n",
              "\n",
              "  <div class=\"colab-df-container\">\n",
              "    <button class=\"colab-df-convert\" onclick=\"convertToInteractive('df-b976b5a2-ed69-42a2-bad1-51fb96209359')\"\n",
              "            title=\"Convert this dataframe to an interactive table.\"\n",
              "            style=\"display:none;\">\n",
              "\n",
              "  <svg xmlns=\"http://www.w3.org/2000/svg\" height=\"24px\" viewBox=\"0 -960 960 960\">\n",
              "    <path d=\"M120-120v-720h720v720H120Zm60-500h600v-160H180v160Zm220 220h160v-160H400v160Zm0 220h160v-160H400v160ZM180-400h160v-160H180v160Zm440 0h160v-160H620v160ZM180-180h160v-160H180v160Zm440 0h160v-160H620v160Z\"/>\n",
              "  </svg>\n",
              "    </button>\n",
              "\n",
              "  <style>\n",
              "    .colab-df-container {\n",
              "      display:flex;\n",
              "      gap: 12px;\n",
              "    }\n",
              "\n",
              "    .colab-df-convert {\n",
              "      background-color: #E8F0FE;\n",
              "      border: none;\n",
              "      border-radius: 50%;\n",
              "      cursor: pointer;\n",
              "      display: none;\n",
              "      fill: #1967D2;\n",
              "      height: 32px;\n",
              "      padding: 0 0 0 0;\n",
              "      width: 32px;\n",
              "    }\n",
              "\n",
              "    .colab-df-convert:hover {\n",
              "      background-color: #E2EBFA;\n",
              "      box-shadow: 0px 1px 2px rgba(60, 64, 67, 0.3), 0px 1px 3px 1px rgba(60, 64, 67, 0.15);\n",
              "      fill: #174EA6;\n",
              "    }\n",
              "\n",
              "    .colab-df-buttons div {\n",
              "      margin-bottom: 4px;\n",
              "    }\n",
              "\n",
              "    [theme=dark] .colab-df-convert {\n",
              "      background-color: #3B4455;\n",
              "      fill: #D2E3FC;\n",
              "    }\n",
              "\n",
              "    [theme=dark] .colab-df-convert:hover {\n",
              "      background-color: #434B5C;\n",
              "      box-shadow: 0px 1px 3px 1px rgba(0, 0, 0, 0.15);\n",
              "      filter: drop-shadow(0px 1px 2px rgba(0, 0, 0, 0.3));\n",
              "      fill: #FFFFFF;\n",
              "    }\n",
              "  </style>\n",
              "\n",
              "    <script>\n",
              "      const buttonEl =\n",
              "        document.querySelector('#df-b976b5a2-ed69-42a2-bad1-51fb96209359 button.colab-df-convert');\n",
              "      buttonEl.style.display =\n",
              "        google.colab.kernel.accessAllowed ? 'block' : 'none';\n",
              "\n",
              "      async function convertToInteractive(key) {\n",
              "        const element = document.querySelector('#df-b976b5a2-ed69-42a2-bad1-51fb96209359');\n",
              "        const dataTable =\n",
              "          await google.colab.kernel.invokeFunction('convertToInteractive',\n",
              "                                                    [key], {});\n",
              "        if (!dataTable) return;\n",
              "\n",
              "        const docLinkHtml = 'Like what you see? Visit the ' +\n",
              "          '<a target=\"_blank\" href=https://colab.research.google.com/notebooks/data_table.ipynb>data table notebook</a>'\n",
              "          + ' to learn more about interactive tables.';\n",
              "        element.innerHTML = '';\n",
              "        dataTable['output_type'] = 'display_data';\n",
              "        await google.colab.output.renderOutput(dataTable, element);\n",
              "        const docLink = document.createElement('div');\n",
              "        docLink.innerHTML = docLinkHtml;\n",
              "        element.appendChild(docLink);\n",
              "      }\n",
              "    </script>\n",
              "  </div>\n",
              "\n",
              "\n",
              "    <div id=\"df-bf76954c-b720-4749-b3c0-d816008de3d5\">\n",
              "      <button class=\"colab-df-quickchart\" onclick=\"quickchart('df-bf76954c-b720-4749-b3c0-d816008de3d5')\"\n",
              "                title=\"Suggest charts\"\n",
              "                style=\"display:none;\">\n",
              "\n",
              "<svg xmlns=\"http://www.w3.org/2000/svg\" height=\"24px\"viewBox=\"0 0 24 24\"\n",
              "     width=\"24px\">\n",
              "    <g>\n",
              "        <path d=\"M19 3H5c-1.1 0-2 .9-2 2v14c0 1.1.9 2 2 2h14c1.1 0 2-.9 2-2V5c0-1.1-.9-2-2-2zM9 17H7v-7h2v7zm4 0h-2V7h2v10zm4 0h-2v-4h2v4z\"/>\n",
              "    </g>\n",
              "</svg>\n",
              "      </button>\n",
              "\n",
              "<style>\n",
              "  .colab-df-quickchart {\n",
              "      --bg-color: #E8F0FE;\n",
              "      --fill-color: #1967D2;\n",
              "      --hover-bg-color: #E2EBFA;\n",
              "      --hover-fill-color: #174EA6;\n",
              "      --disabled-fill-color: #AAA;\n",
              "      --disabled-bg-color: #DDD;\n",
              "  }\n",
              "\n",
              "  [theme=dark] .colab-df-quickchart {\n",
              "      --bg-color: #3B4455;\n",
              "      --fill-color: #D2E3FC;\n",
              "      --hover-bg-color: #434B5C;\n",
              "      --hover-fill-color: #FFFFFF;\n",
              "      --disabled-bg-color: #3B4455;\n",
              "      --disabled-fill-color: #666;\n",
              "  }\n",
              "\n",
              "  .colab-df-quickchart {\n",
              "    background-color: var(--bg-color);\n",
              "    border: none;\n",
              "    border-radius: 50%;\n",
              "    cursor: pointer;\n",
              "    display: none;\n",
              "    fill: var(--fill-color);\n",
              "    height: 32px;\n",
              "    padding: 0;\n",
              "    width: 32px;\n",
              "  }\n",
              "\n",
              "  .colab-df-quickchart:hover {\n",
              "    background-color: var(--hover-bg-color);\n",
              "    box-shadow: 0 1px 2px rgba(60, 64, 67, 0.3), 0 1px 3px 1px rgba(60, 64, 67, 0.15);\n",
              "    fill: var(--button-hover-fill-color);\n",
              "  }\n",
              "\n",
              "  .colab-df-quickchart-complete:disabled,\n",
              "  .colab-df-quickchart-complete:disabled:hover {\n",
              "    background-color: var(--disabled-bg-color);\n",
              "    fill: var(--disabled-fill-color);\n",
              "    box-shadow: none;\n",
              "  }\n",
              "\n",
              "  .colab-df-spinner {\n",
              "    border: 2px solid var(--fill-color);\n",
              "    border-color: transparent;\n",
              "    border-bottom-color: var(--fill-color);\n",
              "    animation:\n",
              "      spin 1s steps(1) infinite;\n",
              "  }\n",
              "\n",
              "  @keyframes spin {\n",
              "    0% {\n",
              "      border-color: transparent;\n",
              "      border-bottom-color: var(--fill-color);\n",
              "      border-left-color: var(--fill-color);\n",
              "    }\n",
              "    20% {\n",
              "      border-color: transparent;\n",
              "      border-left-color: var(--fill-color);\n",
              "      border-top-color: var(--fill-color);\n",
              "    }\n",
              "    30% {\n",
              "      border-color: transparent;\n",
              "      border-left-color: var(--fill-color);\n",
              "      border-top-color: var(--fill-color);\n",
              "      border-right-color: var(--fill-color);\n",
              "    }\n",
              "    40% {\n",
              "      border-color: transparent;\n",
              "      border-right-color: var(--fill-color);\n",
              "      border-top-color: var(--fill-color);\n",
              "    }\n",
              "    60% {\n",
              "      border-color: transparent;\n",
              "      border-right-color: var(--fill-color);\n",
              "    }\n",
              "    80% {\n",
              "      border-color: transparent;\n",
              "      border-right-color: var(--fill-color);\n",
              "      border-bottom-color: var(--fill-color);\n",
              "    }\n",
              "    90% {\n",
              "      border-color: transparent;\n",
              "      border-bottom-color: var(--fill-color);\n",
              "    }\n",
              "  }\n",
              "</style>\n",
              "\n",
              "      <script>\n",
              "        async function quickchart(key) {\n",
              "          const quickchartButtonEl =\n",
              "            document.querySelector('#' + key + ' button');\n",
              "          quickchartButtonEl.disabled = true;  // To prevent multiple clicks.\n",
              "          quickchartButtonEl.classList.add('colab-df-spinner');\n",
              "          try {\n",
              "            const charts = await google.colab.kernel.invokeFunction(\n",
              "                'suggestCharts', [key], {});\n",
              "          } catch (error) {\n",
              "            console.error('Error during call to suggestCharts:', error);\n",
              "          }\n",
              "          quickchartButtonEl.classList.remove('colab-df-spinner');\n",
              "          quickchartButtonEl.classList.add('colab-df-quickchart-complete');\n",
              "        }\n",
              "        (() => {\n",
              "          let quickchartButtonEl =\n",
              "            document.querySelector('#df-bf76954c-b720-4749-b3c0-d816008de3d5 button');\n",
              "          quickchartButtonEl.style.display =\n",
              "            google.colab.kernel.accessAllowed ? 'block' : 'none';\n",
              "        })();\n",
              "      </script>\n",
              "    </div>\n",
              "\n",
              "    </div>\n",
              "  </div>\n"
            ],
            "application/vnd.google.colaboratory.intrinsic+json": {
              "type": "dataframe",
              "variable_name": "dataset",
              "summary": "{\n  \"name\": \"dataset\",\n  \"rows\": 3333,\n  \"fields\": [\n    {\n      \"column\": \"customerID\",\n      \"properties\": {\n        \"dtype\": \"number\",\n        \"std\": 962,\n        \"min\": 0,\n        \"max\": 3332,\n        \"num_unique_values\": 3333,\n        \"samples\": [\n          438,\n          2674,\n          1345\n        ],\n        \"semantic_type\": \"\",\n        \"description\": \"\"\n      }\n    },\n    {\n      \"column\": \"international_plan\",\n      \"properties\": {\n        \"dtype\": \"number\",\n        \"std\": 0,\n        \"min\": 0,\n        \"max\": 1,\n        \"num_unique_values\": 2,\n        \"samples\": [\n          1,\n          0\n        ],\n        \"semantic_type\": \"\",\n        \"description\": \"\"\n      }\n    },\n    {\n      \"column\": \"total_day_charge\",\n      \"properties\": {\n        \"dtype\": \"number\",\n        \"std\": 9.259434553930507,\n        \"min\": 0.0,\n        \"max\": 59.64,\n        \"num_unique_values\": 1667,\n        \"samples\": [\n          14.89,\n          19.67\n        ],\n        \"semantic_type\": \"\",\n        \"description\": \"\"\n      }\n    },\n    {\n      \"column\": \"total_eve_charge\",\n      \"properties\": {\n        \"dtype\": \"number\",\n        \"std\": 4.310667643110339,\n        \"min\": 0.0,\n        \"max\": 30.91,\n        \"num_unique_values\": 1440,\n        \"samples\": [\n          24.85,\n          14.19\n        ],\n        \"semantic_type\": \"\",\n        \"description\": \"\"\n      }\n    },\n    {\n      \"column\": \"customer_service_calls\",\n      \"properties\": {\n        \"dtype\": \"number\",\n        \"std\": 1,\n        \"min\": 0,\n        \"max\": 9,\n        \"num_unique_values\": 10,\n        \"samples\": [\n          6,\n          0\n        ],\n        \"semantic_type\": \"\",\n        \"description\": \"\"\n      }\n    },\n    {\n      \"column\": \"churn\",\n      \"properties\": {\n        \"dtype\": \"number\",\n        \"std\": 0,\n        \"min\": 0,\n        \"max\": 1,\n        \"num_unique_values\": 2,\n        \"samples\": [\n          1,\n          0\n        ],\n        \"semantic_type\": \"\",\n        \"description\": \"\"\n      }\n    }\n  ]\n}"
            }
          },
          "metadata": {},
          "execution_count": 1
        }
      ]
    },
    {
      "cell_type": "markdown",
      "source": [
        "## Definição das Constantes e Separação de Dados (Holdout)\n",
        "\n",
        "Definição das constantes que serão utilizadas ao longo do projeto:\n",
        "  - Tamanho do conjunto de teste `TEST_SIZE`;\n",
        "  - Semente aleatória `RANDOM_STATE` para garantir a reprodutibilidade dos resultados,\n",
        "  - Métrica de avaliação `SCORING`.\n",
        "  - `TARGET_COL` é Coluna alvo, o que o modelo vai tentar prever, afinal, é uma tarefa de aprendizado supervisionado.\n",
        "\n",
        "Separação do dataset em variáveis de entrada `X` e a variável alvo `y`. A coluna `customerID` e a `TARGET_COL` são removidas dos dados de treino.\n",
        "\n",
        "Por fim, é aplicada a estratégia de holdout, dividindo os dados em conjuntos de treino e teste usando a função `train_test_split`. O parâmetro `stratify=y` é usado para garantir que a proporção de clientes que cancelam (churn) e não cancelam seja a mesma tanto no conjunto de treino quanto no de teste, o que é crucial para uma avaliação justa do modelo, especialmente em datasets com classes desbalanceadas."
      ],
      "metadata": {
        "id": "J3lOdr8yTTgj"
      }
    },
    {
      "cell_type": "code",
      "source": [
        "TEST_SIZE = 0.20      # Define que 20% do conjunto de dados será separado para testes.\n",
        "RANDOM_STATE = 7      # Garante reprodutibilidade em todas as etapas aleatórias.\n",
        "SCORING = 'accuracy'  # Define acurácia como métrica principal para avaliar o desempenho.\n",
        "N_SPLITS_KFold = 10   # Indica que a validação cruzada dividirá o conjunto de treino em 10 partes (folds).\n",
        "TARGET_COL = 'churn'  # Define a coluna alvo para a predição.\n",
        "\n",
        "# Remove-se a coluna alvo e o identificador do cliente para criar o conjunto de features X\n",
        "features_to_drop = [TARGET_COL, 'customerID']\n",
        "X = dataset.drop(columns=features_to_drop)\n",
        "y = dataset[TARGET_COL]\n",
        "\n",
        "# O conjunto de dados é dividido para simular um cenário real onde o modelo é testado em dados que nunca viu.\n",
        "X_train, X_test, y_train, y_test = train_test_split(\n",
        "    X, y,\n",
        "    test_size=TEST_SIZE,\n",
        "    random_state=RANDOM_STATE,\n",
        "    stratify=y\n",
        ")\n",
        "\n",
        "# Definição da estratégia de validação cruzada que será usada nos treinamentos\n",
        "kfold = StratifiedKFold(n_splits=N_SPLITS_KFold, shuffle=True, random_state=RANDOM_STATE)"
      ],
      "metadata": {
        "id": "UJGsku-eUpZN"
      },
      "execution_count": 2,
      "outputs": []
    },
    {
      "cell_type": "markdown",
      "source": [
        "# Modelagem e Inferência"
      ],
      "metadata": {
        "id": "QS1yePp4U0ZT"
      }
    },
    {
      "cell_type": "markdown",
      "source": [
        "## Comparação de Modelos Clássicos sem Pré-processamento\n",
        "\n",
        "A modelagem é iniciada criando um baseline. Esta etapa consiste em treinar diversos algoritmos de classificação (KNN, Árvore de Decisão, Naive Bayes e SVM) em sua forma padrão, sem qualquer transformação nos dados de entrada.\n",
        "\n",
        "O objetivo é estabelecer um ponto de referência de performance. A avaliação é feita usando validação cruzada estratificada (StratifiedKFold), que treina e testa o modelo 10 vezes em diferentes subconjuntos dos dados de treino, fornecendo uma estimativa de desempenho muito mais robusta do que um único treino/teste.\n",
        "\n",
        "Os resultados (acurácia média e desvio padrão) de cada modelo são impressos e visualizados em um boxplot para facilitar a comparação."
      ],
      "metadata": {
        "id": "Q6Cj00NTVBYT"
      }
    },
    {
      "cell_type": "code",
      "source": [
        "# Definição dos modelos a serem avaliados\n",
        "models = {\n",
        "    'KNN': KNeighborsClassifier(),\n",
        "    'CART': DecisionTreeClassifier(random_state=RANDOM_STATE),\n",
        "    'NB': GaussianNB(),\n",
        "    'SVM': SVC(random_state=RANDOM_STATE)\n",
        "}\n",
        "\n",
        "results = []\n",
        "names = []\n",
        "\n",
        "# Treinamento e avaliação de cada modelo usando validação cruzada\n",
        "print(\"Performance dos Modelos (Baseline:\\n\")\n",
        "for name, model in models.items():\n",
        "    cv_results = cross_val_score(model, X_train, y_train, cv=kfold, scoring=SCORING)\n",
        "    results.append(cv_results)\n",
        "    names.append(name)\n",
        "    # Imprime a acurácia média e o desvio padrão para cada modelo\n",
        "    print(f\"{name}: {cv_results.mean():.4f} ({cv_results.std():.4f})\")\n",
        "\n",
        "# Boxplot para comparação visual dos modelos\n",
        "fig = plt.figure(figsize=(10, 6))\n",
        "fig.suptitle('Comparação dos Modelos (Dados Originais)')\n",
        "ax = fig.add_subplot(111)\n",
        "plt.boxplot(results)\n",
        "ax.set_xticklabels(names)\n",
        "ax.set_ylabel(f'Acurácia ({SCORING})')\n",
        "plt.show()"
      ],
      "metadata": {
        "colab": {
          "base_uri": "https://localhost:8080/",
          "height": 686
        },
        "id": "2q7WLhYzWc-8",
        "outputId": "c4f185fa-37d9-4e0f-fcdb-fe4fc516d5d7"
      },
      "execution_count": 3,
      "outputs": [
        {
          "output_type": "stream",
          "name": "stdout",
          "text": [
            "Performance dos Modelos (Baseline:\n",
            "\n",
            "KNN: 0.8830 (0.0166)\n",
            "CART: 0.8698 (0.0138)\n",
            "NB: 0.8477 (0.0272)\n",
            "SVM: 0.8710 (0.0034)\n"
          ]
        },
        {
          "output_type": "display_data",
          "data": {
            "text/plain": [
              "<Figure size 1000x600 with 1 Axes>"
            ],
            "image/png": "[encoded data removed]"
          },
          "metadata": {}
        }
      ]
    },
    {
      "cell_type": "markdown",
      "source": [
        "Nesse cenário o KNN é o modelo com melhor acurácia, com 88,30% de acerto."
      ],
      "metadata": {
        "id": "9lf1Cw8RXLaL"
      }
    },
    {
      "cell_type": "markdown",
      "source": [
        "## Avaliação do Impacto da Padronização e Normalização\n",
        "\n",
        "Algoritmos como KNN e SVM são sensíveis à escala das variáveis. Portanto, duas técnicas comuns de pré-processamento serão aplicadas:\n",
        "\n",
        "Padronização (StandardScaler): Transforma os dados para terem média 0 e desvio padrão 1.\n",
        "\n",
        "Normalização (MinMaxScaler): Transforma os dados para um intervalo fixo, geralmente entre 0 e 1.\n",
        "\n",
        "Para realizar essa avaliação de forma segura e eficiente, será utilizado `Pipeline`. Um pipeline encadeia múltiplas etapas (como um scaler e um modelo), garantindo que a transformação dos dados seja aplicada apenas nos dados de cada fold da validação cruzada, evitando o vazamento de informações (data leakage) e simplificando o fluxo de trabalho.\n",
        "\n",
        "A performance de todos os modelos será avaliada e combinada com cada uma das técnicas de pré-processamento."
      ],
      "metadata": {
        "id": "pVa0UELGXRfd"
      }
    },
    {
      "cell_type": "code",
      "source": [
        "# Definição dos scalers a serem testados\n",
        "scalers = {\n",
        "    'Orig': None,  # 'Orig' representa o dado original, sem scaling\n",
        "    'Padr': StandardScaler(),\n",
        "    'Norm': MinMaxScaler()\n",
        "}\n",
        "\n",
        "pipelines_results = []\n",
        "pipelines_names = []\n",
        "\n",
        "# Loops aninhados para criar e avaliar pipelines de forma eficiente\n",
        "# Cada modelo será testado com e sem cada tipo de scaler\n",
        "print(\"Performance dos Modelos com Pré-processamento:\\n\")\n",
        "for model_name, model_obj in models.items():\n",
        "    print(f\"--- {model_name} ---\")\n",
        "    for scaler_name, scaler_obj in scalers.items():\n",
        "        steps = []\n",
        "        # Adiciona o scaler ao pipeline apenas se ele for definido\n",
        "        if scaler_obj:\n",
        "            steps.append((scaler_name.lower(), scaler_obj))\n",
        "        steps.append((model_name.lower(), model_obj))\n",
        "\n",
        "        # Cria o pipeline\n",
        "        pipeline = Pipeline(steps)\n",
        "        pipeline_name = f\"{model_name}-{scaler_name}\"\n",
        "\n",
        "        # Avalia o pipeline usando validação cruzada\n",
        "        cv_results = cross_val_score(pipeline, X_train, y_train, cv=kfold, scoring=SCORING)\n",
        "\n",
        "        pipelines_results.append(cv_results)\n",
        "        pipelines_names.append(pipeline_name)\n",
        "\n",
        "        print(f\"{pipeline_name}: {cv_results.mean():.4f} ({cv_results.std():.4f})\")\n",
        "\n",
        "# Boxplot de comparação de todos os pipelines\n",
        "fig = plt.figure(figsize=(18, 8))\n",
        "fig.suptitle('Comparação dos Modelos com Diferentes Pré-processamentos')\n",
        "ax = fig.add_subplot(111)\n",
        "plt.boxplot(pipelines_results)\n",
        "ax.set_xticklabels(pipelines_names, rotation=45, ha=\"right\")\n",
        "ax.set_ylabel(f'Acurácia ({SCORING})')\n",
        "plt.tight_layout(rect=[0, 0.03, 1, 0.95])\n",
        "plt.show()"
      ],
      "metadata": {
        "colab": {
          "base_uri": "https://localhost:8080/",
          "height": 819
        },
        "id": "C13SoC7LXpNh",
        "outputId": "1f78ddf5-1db6-46f0-a09f-7cd201e28c5b"
      },
      "execution_count": 4,
      "outputs": [
        {
          "output_type": "stream",
          "name": "stdout",
          "text": [
            "Performance dos Modelos com Pré-processamento:\n",
            "\n",
            "--- KNN ---\n",
            "KNN-Orig: 0.8830 (0.0166)\n",
            "KNN-Padr: 0.8886 (0.0112)\n",
            "KNN-Norm: 0.8867 (0.0142)\n",
            "--- CART ---\n",
            "CART-Orig: 0.8698 (0.0138)\n",
            "CART-Padr: 0.8698 (0.0134)\n",
            "CART-Norm: 0.8687 (0.0142)\n",
            "--- NB ---\n",
            "NB-Orig: 0.8477 (0.0272)\n",
            "NB-Padr: 0.8477 (0.0272)\n",
            "NB-Norm: 0.8477 (0.0272)\n",
            "--- SVM ---\n",
            "SVM-Orig: 0.8710 (0.0034)\n",
            "SVM-Padr: 0.8961 (0.0108)\n",
            "SVM-Norm: 0.8864 (0.0090)\n"
          ]
        },
        {
          "output_type": "display_data",
          "data": {
            "text/plain": [
              "<Figure size 1800x800 with 1 Axes>"
            ],
            "image/png": "[encoded data removed]"
          },
          "metadata": {}
        }
      ]
    },
    {
      "cell_type": "markdown",
      "source": [
        "Os modelos melhoram com a padronização `StandardScaler` e com a normalização `MinMaxScaler`, exceto a Árvore de decisão que piorou levemente sua performance com a normalização. Naive Bayes não se alterou com padronização e normalização.\n",
        "\n",
        "`StandardScaler` será usado para montar o pipeline final."
      ],
      "metadata": {
        "id": "lUmsPhkrX3JZ"
      }
    },
    {
      "cell_type": "markdown",
      "source": [
        "## Otimização de hiperparâmetros\n",
        "\n",
        "Após identificar a melhor abordagem de pré-processamento, a próxima etapa é a otimização de hiperparâmetros.\n",
        "\n",
        "Hiperparâmetros são as configurações \"externas\" de um modelo (ex: o número de vizinhos 'k' no KNN, ou o 'C' no SVM). Será utilizada a técnica `GridSearchCV`, que testa exaustivamente todas as combinações de hiperparâmetros definidas em um \"grid\" e, usando validação cruzada, identifica a combinação que resulta no melhor desempenho.\n",
        "\n",
        "Este processo é aplicado a todos os quatro algoritmos, e o `GridSearchCV` automaticamente seleciona e retreina o melhor estimador (best_estimator_) para cada um."
      ],
      "metadata": {
        "id": "D9xg60YBYakE"
      }
    },
    {
      "cell_type": "code",
      "source": [
        "# Baseado na análise anterior, será usado StandardScaler para todos os modelos no tuning\n",
        "pipeline_knn = Pipeline([('scaler', StandardScaler()), ('knn', KNeighborsClassifier())])\n",
        "pipeline_cart = Pipeline([('scaler', StandardScaler()), ('cart', DecisionTreeClassifier(random_state=RANDOM_STATE))])\n",
        "pipeline_nb = Pipeline([('scaler', StandardScaler()), ('nb', GaussianNB())])\n",
        "pipeline_svm = Pipeline([('scaler', StandardScaler()), ('svm', SVC(random_state=RANDOM_STATE))])\n",
        "\n",
        "# Para cada modelo, definimos um dicionário com os hiperparâmetros a serem testados.\n",
        "# A sintaxe 'nomepasso__parametro' é usada para especificar parâmetros dentro de um pipeline.\n",
        "param_grid_knn = {\n",
        "    'knn__n_neighbors': [5, 7, 9, 11, 13, 15],\n",
        "    'knn__metric': [\"euclidean\", \"manhattan\"]\n",
        "}\n",
        "param_grid_cart = {\n",
        "    'cart__criterion': ['gini', 'entropy'],\n",
        "    'cart__max_depth': [None, 5, 10, 15],\n",
        "    'cart__min_samples_split': [2, 5, 10]\n",
        "}\n",
        "param_grid_nb = {\n",
        "    'nb__var_smoothing': [1e-9, 1e-8, 1e-7, 1e-6]\n",
        "}\n",
        "param_grid_svm = {\n",
        "    'svm__C': [0.1, 1, 10],\n",
        "    'svm__gamma': ['scale', 'auto'],\n",
        "    'svm__kernel': ['rbf']\n",
        "}\n",
        "\n",
        "# Execução do GridSearchCV para cada modelo\n",
        "all_grid_results = []\n",
        "models_to_tune = [\n",
        "    ('KNN', pipeline_knn, param_grid_knn),\n",
        "    ('CART', pipeline_cart, param_grid_cart),\n",
        "    ('NB', pipeline_nb, param_grid_nb),\n",
        "    ('SVM', pipeline_svm, param_grid_svm)\n",
        "]\n",
        "\n",
        "print(\"Otimizando Hiperparâmetros com GridSearchCV:\\n\")\n",
        "for name, pipeline, param_grid in models_to_tune:\n",
        "    print(f\"--- Otimizando o modelo: {name} ---\")\n",
        "    # n_jobs=-1 utiliza todos os processadores disponíveis para acelerar o processo\n",
        "    grid = GridSearchCV(estimator=pipeline, param_grid=param_grid, scoring=SCORING, cv=kfold, n_jobs=-1)\n",
        "    grid.fit(X_train, y_train)\n",
        "\n",
        "    # Guarda as informações importantes de cada grid\n",
        "    result_info = {\n",
        "        'name': name,\n",
        "        'score': grid.best_score_,\n",
        "        'params': grid.best_params_,\n",
        "        'estimator': grid.best_estimator_\n",
        "    }\n",
        "    all_grid_results.append(result_info)\n",
        "\n",
        "    print(f\"Melhor Acurácia para {name}: {grid.best_score_:.4f}\")\n",
        "    print(f\"Melhores Parâmetros: {grid.best_params_}\\n\")\n",
        "\n",
        "# --- Identificação do Melhor Modelo Geral ---\n",
        "# Compara todos os modelos otimizados para encontrar o grande campeão\n",
        "best_model_info = max(all_grid_results, key=lambda item: item['score'])\n",
        "best_model = best_model_info['estimator'] # O melhor pipeline (scaler + modelo com os melhores parâmetros)\n",
        "\n",
        "print(\"\\n\\nRESULTADO FINAL DA OTIMIZAÇÃO\")\n",
        "print(f\"O melhor modelo é o: '{best_model_info['name']}'\")\n",
        "print(f\"Ele alcançou uma acurácia de validação cruzada de: {best_model_info['score']:.4f}\")\n",
        "print(f\"Com os seguintes hiperparâmetros: {best_model_info['params']}\")"
      ],
      "metadata": {
        "colab": {
          "base_uri": "https://localhost:8080/"
        },
        "id": "6FLmoqQFY3Gh",
        "outputId": "eb48d369-9a62-4cda-98a7-895f8c821233"
      },
      "execution_count": 5,
      "outputs": [
        {
          "output_type": "stream",
          "name": "stdout",
          "text": [
            "Otimizando Hiperparâmetros com GridSearchCV:\n",
            "\n",
            "--- Otimizando o modelo: KNN ---\n",
            "Melhor Acurácia para KNN: 0.8961\n",
            "Melhores Parâmetros: {'knn__metric': 'manhattan', 'knn__n_neighbors': 15}\n",
            "\n",
            "--- Otimizando o modelo: CART ---\n",
            "Melhor Acurácia para CART: 0.8999\n",
            "Melhores Parâmetros: {'cart__criterion': 'gini', 'cart__max_depth': 5, 'cart__min_samples_split': 2}\n",
            "\n",
            "--- Otimizando o modelo: NB ---\n",
            "Melhor Acurácia para NB: 0.8477\n",
            "Melhores Parâmetros: {'nb__var_smoothing': 1e-09}\n",
            "\n",
            "--- Otimizando o modelo: SVM ---\n",
            "Melhor Acurácia para SVM: 0.8984\n",
            "Melhores Parâmetros: {'svm__C': 10, 'svm__gamma': 'scale', 'svm__kernel': 'rbf'}\n",
            "\n",
            "\n",
            "\n",
            "RESULTADO FINAL DA OTIMIZAÇÃO\n",
            "O melhor modelo é o: 'CART'\n",
            "Ele alcançou uma acurácia de validação cruzada de: 0.8999\n",
            "Com os seguintes hiperparâmetros: {'cart__criterion': 'gini', 'cart__max_depth': 5, 'cart__min_samples_split': 2}\n"
          ]
        }
      ]
    },
    {
      "cell_type": "markdown",
      "source": [
        "# Avaliação final do modelo"
      ],
      "metadata": {
        "id": "HbwIUoy9asIE"
      }
    },
    {
      "cell_type": "markdown",
      "source": [
        "## Performance no Conjunto de Teste\n",
        "\n",
        "Até agora, todas as avaliações foram feitas no conjunto de treino (usando validação cruzada). A etapa final e mais importante é avaliar a performance do melhor modelo no conjunto de teste (`X_test`, `y_test`), que foi separado no início e mantido intocado. Isso dá uma estimativa não enviesada de como o modelo se comportará em dados novos, do mundo real."
      ],
      "metadata": {
        "id": "NDfyHI92at54"
      }
    },
    {
      "cell_type": "code",
      "source": [
        "# O 'best_model' já foi treinado pelo GridSearchCV com os melhores parâmetros no conjunto de treino completo\n",
        "# Agora, usamos o conjunto de teste para uma avaliação final e imparcial\n",
        "predictions = best_model.predict(X_test)\n",
        "\n",
        "# Acurácia Final\n",
        "accuracy = accuracy_score(y_test, predictions)\n",
        "print(f\"\\n Acurácia final no conjunto de teste: {accuracy:.4f}\")\n",
        "\n"
      ],
      "metadata": {
        "colab": {
          "base_uri": "https://localhost:8080/"
        },
        "id": "F7IPSlQvbDe0",
        "outputId": "a5f356ad-388c-40a8-b13a-885e9f9fa82d"
      },
      "execution_count": 6,
      "outputs": [
        {
          "output_type": "stream",
          "name": "stdout",
          "text": [
            "\n",
            " Acurácia final no conjunto de teste: 0.8936\n"
          ]
        }
      ]
    },
    {
      "cell_type": "markdown",
      "source": [
        "# Exportação do Modelo para Produção"
      ],
      "metadata": {
        "id": "BzYQ4o7tcD9E"
      }
    },
    {
      "cell_type": "markdown",
      "source": [
        "## Treinamento com Todos os Dados e Salvamento do Modelo\n",
        "Com o melhor modelo e os melhores hiperparâmetros definidos, o passo final é treinar o modelo utilizando todo o conjunto de dados (X e y). Essa prática visa aproveitar ao máximo toda a informação disponível antes de implantar o modelo em um ambiente de produção.\n",
        "\n",
        "Após o treinamento final, o objeto do modelo (o pipeline completo) é serializado e salvo em um arquivo .pkl usando a biblioteca pickle. Este arquivo contém todo o necessário (o scaler e o modelo treinado) e pode ser facilmente carregado no backend da aplicação para fazer previsões em novos dados."
      ],
      "metadata": {
        "id": "EZVemu_ecF-9"
      }
    },
    {
      "cell_type": "code",
      "source": [
        "# Treina o modelo campeão com TODOS os dados disponíveis (treino + teste)\n",
        "# para maximizar o aprendizado antes de ir para produção.\n",
        "final_model = best_model.fit(X, y)\n",
        "\n",
        "print(f\"\\nModelo final ('{best_model_info['name']}') foi treinado com todo o dataset.\")\n",
        "print(f\"Usando a configuração de parâmetros: {best_model_info['params']}\")\n",
        "\n",
        "# Define o nome do arquivo para exportação\n",
        "filename = 'modelo_churn.pkl'\n",
        "\n",
        "# Abre o arquivo em modo de escrita binária ('wb') e salva o objeto do modelo final\n",
        "with open(filename, 'wb') as file:\n",
        "    pickle.dump(final_model, file)\n",
        "\n",
        "print(f\"\\n✅ Modelo salvo com sucesso no arquivo: '{filename}'\")"
      ],
      "metadata": {
        "colab": {
          "base_uri": "https://localhost:8080/"
        },
        "id": "VUqGt3hycLdW",
        "outputId": "15989913-5b9b-4c44-f78c-c86047149a6b"
      },
      "execution_count": 7,
      "outputs": [
        {
          "output_type": "stream",
          "name": "stdout",
          "text": [
            "\n",
            "Modelo final ('CART') foi treinado com todo o dataset.\n",
            "Usando a configuração de parâmetros: {'cart__criterion': 'gini', 'cart__max_depth': 5, 'cart__min_samples_split': 2}\n",
            "\n",
            "✅ Modelo salvo com sucesso no arquivo: 'modelo_churn.pkl'\n"
          ]
        }
      ]
    },
    {
      "cell_type": "markdown",
      "source": [
        "# Análise de resultados e conclusão"
      ],
      "metadata": {
        "id": "qzWfILrEcbzo"
      }
    },
    {
      "cell_type": "markdown",
      "source": [
        "O processo de desenvolvimento do modelo de previsão de churn seguiu uma abordagem estruturada em três etapas principais.\n",
        "\n",
        "1. Baseline: A avaliação inicial dos modelos nos dados brutos mostrou que os modelos selecionados apresentavam uma performance promissora com acurácia na faixa dos 86%+.\n",
        "\n",
        "2. Pré-processamento: Foi observado que a aplicação de `StandardScaler` (Padronização) trouxe um ganho de performance, elevando a acurácia e confirmou a importância desta etapa.\n",
        "\n",
        "3. Otimização de Hiperparâmetros: Utilizando GridSearchCV, foi possível refinar ainda mais os modelos. O melhor modelo foi a **Árvore de Decisão**, que, após o ajuste de seus hiperparâmetros alcançou a maior acurácia na validação cruzada, com aproximadamente 90%.\n",
        "\n",
        "Na avaliação final sobre o conjunto de teste, o modelo de Árvore de Decisão demonstrou sua robustez, atingindo uma acurácia final de 89,36%."
      ],
      "metadata": {
        "id": "5l8gpLH_cfIq"
      }
    },
    {
      "cell_type": "markdown",
      "source": [
        "## Conclusão\n",
        "Este trabalho cumpriu com sucesso o objetivo de construir, avaliar e otimizar um modelo de classificação para o problema de churn. O modelo de Árvore de decisão, combinado com a padronização dos dados, foi identificado como a solução mais performática. O artefato final, `modelo_churn.pkl`, está pronto para ser integrado ao sistema de backend, onde poderá ser utilizado para prever proativamente a evasão de clientes."
      ],
      "metadata": {
        "id": "yDNr4ZNRdVeq"
      }
    }
  ]
}